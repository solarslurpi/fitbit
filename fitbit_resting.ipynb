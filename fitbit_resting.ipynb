{
 "metadata": {
  "language_info": {
   "codemirror_mode": {
    "name": "ipython",
    "version": 3
   },
   "file_extension": ".py",
   "mimetype": "text/x-python",
   "name": "python",
   "nbconvert_exporter": "python",
   "pygments_lexer": "ipython3",
   "version": "3.8.5-final"
  },
  "orig_nbformat": 2,
  "kernelspec": {
   "name": "python3",
   "display_name": "Python 3",
   "language": "python"
  }
 },
 "nbformat": 4,
 "nbformat_minor": 2,
 "cells": [
  {
   "cell_type": "code",
   "execution_count": 2,
   "metadata": {},
   "outputs": [],
   "source": [
    "\n",
    "%matplotlib inline\n",
    "import matplotlib.pyplot as plt\n",
    "import pandas as pd \n",
    "from dateutil import parser\n",
    "import json\n",
    "import requests\n"
   ]
  },
  {
   "cell_type": "code",
   "execution_count": 4,
   "metadata": {},
   "outputs": [],
   "source": [
    "def get_date_from_user():\n",
    "\n",
    "    try:\n",
    "        date = parser.parse(input(\"Enter date: \"))\n",
    "    except ParserError:\n",
    "        raise Exception(\"You did not enter a valid date.\")\n",
    "    else:\n",
    "        datestr = date.strftime('%Y-%m-%d')\n",
    "        return datestr"
   ]
  },
  {
   "cell_type": "code",
   "execution_count": 5,
   "metadata": {},
   "outputs": [],
   "source": [
    "input_date = get_date_from_user()"
   ]
  },
  {
   "cell_type": "code",
   "execution_count": 6,
   "metadata": {},
   "outputs": [],
   "source": [
    "with open('config.json') as f:\n",
    "    secret_dict = json.load(f)\n",
    "access_token = secret_dict['ACCESS_TOKEN']"
   ]
  },
  {
   "cell_type": "code",
   "execution_count": 7,
   "metadata": {},
   "outputs": [
    {
     "output_type": "stream",
     "name": "stdout",
     "text": [
      "'errors'\n"
     ]
    }
   ],
   "source": [
    "api_endpoint = \"https://api.fitbit.com/1/user/-/activities/heart/date/\"+ input_date+\"/30d.json\"\n",
    "header = {'Authorization': 'Bearer {}'.format(access_token)}\n",
    "response = requests.get(api_endpoint, headers=header).json()\n",
    "# If the request was successful, there should be a KeyError exception when asking for the errors list.\n",
    "try:\n",
    "    failed_response = response['errors'][0]\n",
    "    raise Exception(failed_response['message'])\n",
    "except KeyError as error:\n",
    "    print(error)"
   ]
  },
  {
   "cell_type": "code",
   "execution_count": 65,
   "metadata": {},
   "outputs": [
    {
     "output_type": "stream",
     "name": "stdout",
     "text": [
      "2020-12-01 value not there\n2020-12-02 value not there\n2020-12-03 value not there\n2020-12-04 value not there\n2020-12-05 value not there\n"
     ]
    }
   ],
   "source": [
    "resting_list = []\n",
    "for i in range(30):\n",
    "    try:     \n",
    "        resting_list.append(response['activities-heart'][i]['value']['restingHeartRate'])\n",
    "    except: # Key Error is resting heart rate value not there for a day...\n",
    "        datestr = response['activities-heart'][i]['dateTime']\n",
    "        print(f'{datestr} value not there')\n",
    "      "
   ]
  },
  {
   "cell_type": "code",
   "execution_count": 80,
   "metadata": {},
   "outputs": [],
   "source": [
    "\n",
    "df = pd.DataFrame(response['activities-heart'][:][:])"
   ]
  },
  {
   "cell_type": "code",
   "execution_count": 73,
   "metadata": {},
   "outputs": [
    {
     "output_type": "execute_result",
     "data": {
      "text/plain": [
       "     dateTime                                              value\n",
       "0  2020-12-01  {'customHeartRateZones': [], 'heartRateZones':...\n",
       "1  2020-12-02  {'customHeartRateZones': [], 'heartRateZones':...\n",
       "2  2020-12-03  {'customHeartRateZones': [], 'heartRateZones':...\n",
       "3  2020-12-04  {'customHeartRateZones': [], 'heartRateZones':...\n",
       "4  2020-12-05  {'customHeartRateZones': [], 'heartRateZones':..."
      ],
      "text/html": "<div>\n<style scoped>\n    .dataframe tbody tr th:only-of-type {\n        vertical-align: middle;\n    }\n\n    .dataframe tbody tr th {\n        vertical-align: top;\n    }\n\n    .dataframe thead th {\n        text-align: right;\n    }\n</style>\n<table border=\"1\" class=\"dataframe\">\n  <thead>\n    <tr style=\"text-align: right;\">\n      <th></th>\n      <th>dateTime</th>\n      <th>value</th>\n    </tr>\n  </thead>\n  <tbody>\n    <tr>\n      <th>0</th>\n      <td>2020-12-01</td>\n      <td>{'customHeartRateZones': [], 'heartRateZones':...</td>\n    </tr>\n    <tr>\n      <th>1</th>\n      <td>2020-12-02</td>\n      <td>{'customHeartRateZones': [], 'heartRateZones':...</td>\n    </tr>\n    <tr>\n      <th>2</th>\n      <td>2020-12-03</td>\n      <td>{'customHeartRateZones': [], 'heartRateZones':...</td>\n    </tr>\n    <tr>\n      <th>3</th>\n      <td>2020-12-04</td>\n      <td>{'customHeartRateZones': [], 'heartRateZones':...</td>\n    </tr>\n    <tr>\n      <th>4</th>\n      <td>2020-12-05</td>\n      <td>{'customHeartRateZones': [], 'heartRateZones':...</td>\n    </tr>\n  </tbody>\n</table>\n</div>"
     },
     "metadata": {},
     "execution_count": 73
    }
   ],
   "source": [
    "df.head()"
   ]
  },
  {
   "cell_type": "code",
   "execution_count": 78,
   "metadata": {},
   "outputs": [
    {
     "output_type": "execute_result",
     "data": {
      "text/plain": [
       "dateTime                                           2020-12-16\n",
       "value       {'customHeartRateZones': [], 'heartRateZones':...\n",
       "Name: 15, dtype: object"
      ]
     },
     "metadata": {},
     "execution_count": 78
    }
   ],
   "source": [
    "df.loc[15]"
   ]
  },
  {
   "cell_type": "code",
   "execution_count": null,
   "metadata": {},
   "outputs": [],
   "source": []
  }
 ]
}