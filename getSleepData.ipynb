{
 "metadata": {
  "language_info": {
   "codemirror_mode": {
    "name": "ipython",
    "version": 3
   },
   "file_extension": ".py",
   "mimetype": "text/x-python",
   "name": "python",
   "nbconvert_exporter": "python",
   "pygments_lexer": "ipython3",
   "version": 3
  },
  "orig_nbformat": 2
 },
 "nbformat": 4,
 "nbformat_minor": 2,
 "cells": [
  {
   "source": [
    "# Sleep Data\n",
    "In this notebook we pull out the sleep data for a range of dates and then plot."
   ],
   "cell_type": "markdown",
   "metadata": {}
  },
  {
   "source": [
    "# Imports\n"
   ],
   "cell_type": "markdown",
   "metadata": {}
  },
  {
   "cell_type": "code",
   "execution_count": null,
   "metadata": {},
   "outputs": [],
   "source": [
    "import pandas as pd \n",
    "from dateutil import parser\n",
    "from datetime import date\n",
    "import json\n",
    "import requests\n"
   ]
  },
  {
   "source": [
    "# Functions"
   ],
   "cell_type": "markdown",
   "metadata": {}
  },
  {
   "cell_type": "code",
   "execution_count": null,
   "metadata": {},
   "outputs": [],
   "source": [
    "def get_access_token():\n",
    "    with open('config.json') as f:\n",
    "        secret_dict = json.load(f)\n",
    "    return secret_dict['ACCESS_TOKEN']"
   ]
  },
  {
   "cell_type": "code",
   "execution_count": null,
   "metadata": {},
   "outputs": [],
   "source": [
    "def get_fitbit_formatted_date_from_user(start_end='start'):\n",
    "    user_date = None\n",
    "    print(\"Enter \"+start_end+\" date (or today for today's info):\")\n",
    "    user_date_input = input()\n",
    "    if user_date_input.lower() == 'today':\n",
    "        user_date = date.today()\n",
    "    else:\n",
    "        try:\n",
    "            user_date = parser.parse(user_date_input)\n",
    "        except ValueError as error:\n",
    "            raise Exception(\n",
    "                f'***** WE DID NOT RECEIVE A VALID DATE ... {error} *****')\n",
    "    user_date_str = user_date.strftime('%Y-%m-%d')\n",
    "    return user_date_str"
   ]
  },
  {
   "cell_type": "code",
   "execution_count": null,
   "metadata": {},
   "outputs": [],
   "source": [
    "def get_sleep_results(access_token, start_date, end_date=\"7d\"):\n",
    "    # TODO: access token and start_date can't be none...\n",
    "    api_endpoint = \"https://api.fitbit.com/1/user/-/activities/heart/date/\" + \\\n",
    "        start_date+\"/\"+end_date+\".json\"\n",
    "    header = {'Authorization': 'Bearer {}'.format(access_token)}\n",
    "    response = requests.get(api_endpoint, headers=header).json()\n",
    "    # If the request was successful, there should be a KeyError exception when asking for the errors list.\n",
    "    try:\n",
    "        failed_response = response['errors'][0]\n",
    "        raise Exception(failed_response['message'])\n",
    "    except KeyError:\n",
    "        pass  # it worked\n",
    "    return response"
   ]
  },
  {
   "source": [
    "# Code\n"
   ],
   "cell_type": "markdown",
   "metadata": {}
  },
  {
   "cell_type": "code",
   "execution_count": null,
   "metadata": {},
   "outputs": [],
   "source": [
    "# Get sleep data from FitBit\n",
    "access_token = get_access_token()\n",
    "start_date = get_fitbit_formatted_date_from_user('start')\n",
    "end_date = get_fitbit_formatted_date_from_user('end')\n",
    "data = get_sleep_results(access_token,start_date,end_date)"
   ]
  }
 ]
}