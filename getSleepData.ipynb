{
 "metadata": {
  "language_info": {
   "codemirror_mode": {
    "name": "ipython",
    "version": 3
   },
   "file_extension": ".py",
   "mimetype": "text/x-python",
   "name": "python",
   "nbconvert_exporter": "python",
   "pygments_lexer": "ipython3",
   "version": 3
  },
  "orig_nbformat": 2
 },
 "nbformat": 4,
 "nbformat_minor": 2,
 "cells": [
  {
   "source": [
    "# Sleep Data\n",
    "In this notebook we pull out the sleep data for a range of dates and then plot.  [Fitbit web api doc for sleep](https://dev.fitbit.com/build/reference/web-api/sleep/)\n",
    "\n",
    "During exploration, I created json files using Postman:\n",
    "* postman_json/sleep_list.json is the response from the fitbit endpoint // GET https://api.fitbit.com/1.2/user/-/sleep/list.json?beforeDate=2021-01-02&sort=desc&offset=0&limit=1  ...  This is a [\"Get Sleep Logs List\" example](https://dev.fitbit.com/build/reference/web-api/sleep/#get-sleep-logs-list) (\"The Get Sleep Logs List endpoint returns a list of a user's sleep logs (including naps) before or after a given day with offset, limit, and sort order.\").  Note: the limit sets the number of days to return.\n",
    "* postman_json/sleep-dateRange.json is the response from a GET https://api.fitbit.com/1.2/user/-/sleep/date/2020-12-27/2021-01-05.json request. \n",
    "\n",
    "Given what I currently understand about the Fitbit sleep API, I will use the date range endpoint API since the documentation for the list endpoint notes: _The Get Sleep Logs __List endpoint__ returns a list of a user's sleep logs (including naps) before or after a given day with offset, limit, and sort order._  ...umm..not sure what dates are included with \"before and after\"...i.e.: not sure how that is determined."
   ],
   "cell_type": "markdown",
   "metadata": {}
  },
  {
   "source": [
    "# Imports\n"
   ],
   "cell_type": "markdown",
   "metadata": {}
  },
  {
   "cell_type": "code",
   "execution_count": null,
   "metadata": {},
   "outputs": [],
   "source": [
    "import pandas as pd"
   ]
  },
  {
   "source": [
    "# Functions"
   ],
   "cell_type": "markdown",
   "metadata": {}
  },
  {
   "cell_type": "code",
   "execution_count": null,
   "metadata": {},
   "outputs": [],
   "source": [
    "def get_heartrate(value):\n",
    "    dict = json.loads()\n",
    "    \"\"\"\n",
    "    Function used with .apply on the value series to extract the resting heart rate.\n",
    "    \"\"\"\n",
    "    dict = json.loads(value) \n",
    "    try:\n",
    "        rhr = dict['restingHeartRate']\n",
    "        return rhr\n",
    "    except:\n",
    "        return None"
   ]
  },
  {
   "source": [
    "# Code\n"
   ],
   "cell_type": "markdown",
   "metadata": {}
  },
  {
   "cell_type": "code",
   "execution_count": null,
   "metadata": {},
   "outputs": [],
   "source": [
    "# Get sleep data from FitBit\n",
    "access_token = get_access_token()\n",
    "start_date = get_fitbit_formatted_date_from_user('start')\n",
    "end_date = get_fitbit_formatted_date_from_user('end')\n",
    "data = get_sleep_results(access_token,start_date,end_date)"
   ]
  }
 ]
}