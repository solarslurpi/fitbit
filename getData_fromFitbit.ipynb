{
 "metadata": {
  "language_info": {
   "codemirror_mode": {
    "name": "ipython",
    "version": 3
   },
   "file_extension": ".py",
   "mimetype": "text/x-python",
   "name": "python",
   "nbconvert_exporter": "python",
   "pygments_lexer": "ipython3",
   "version": "3.8.5-final"
  },
  "orig_nbformat": 2,
  "kernelspec": {
   "name": "python3",
   "display_name": "Python 3",
   "language": "python"
  }
 },
 "nbformat": 4,
 "nbformat_minor": 2,
 "cells": [
  {
   "source": [
    "The goal of this notebook is to get heart rate activity data from a [Fitbit Heart Rate API endpoint](https://dev.fitbit.com/build/reference/web-api/heart-rate/).  The API endpoint format being used is\n",
    "\n",
    "\n",
    " and store the results into a csv file.\n",
    "\n",
    "I am currently using the csv file in another notebook to retrieve the resting heart rate values."
   ],
   "cell_type": "markdown",
   "metadata": {}
  },
  {
   "source": [
    "# IMPORTS"
   ],
   "cell_type": "markdown",
   "metadata": {}
  },
  {
   "cell_type": "code",
   "execution_count": 43,
   "metadata": {},
   "outputs": [],
   "source": [
    "\n",
    "import pandas as pd \n",
    "from dateutil import parser\n",
    "from datetime import date\n",
    "import json\n",
    "import requests\n"
   ]
  },
  {
   "source": [
    "# FUNCTIONS"
   ],
   "cell_type": "markdown",
   "metadata": {}
  },
  {
   "cell_type": "code",
   "execution_count": 44,
   "metadata": {},
   "outputs": [],
   "source": [
    "def get_fitbit_formatted_date_from_user(start_end='start'):\n",
    "    user_date = None\n",
    "    print(\"Enter \"+start_end+\" date (or today for today's info):\")\n",
    "    user_date_input = input()\n",
    "    if user_date_input.lower() == 'today':\n",
    "        user_date = date.today()\n",
    "    else:\n",
    "        try:\n",
    "            user_date = parser.parse(user_date_input)\n",
    "        except ValueError as error:\n",
    "            raise Exception(\n",
    "                f'***** WE DID NOT RECEIVE A VALID DATE ... {error} *****')\n",
    "    user_date_str = user_date.strftime('%Y-%m-%d')\n",
    "    return user_date_str"
   ]
  },
  {
   "cell_type": "code",
   "execution_count": 45,
   "metadata": {},
   "outputs": [],
   "source": [
    "def get_access_token():\n",
    "    with open('config.json') as f:\n",
    "        secret_dict = json.load(f)\n",
    "    return secret_dict['ACCESS_TOKEN']"
   ]
  },
  {
   "cell_type": "code",
   "execution_count": 46,
   "metadata": {},
   "outputs": [],
   "source": [
    "def get_results(access_token, start_date, end_date=\"7d\"):\n",
    "    # TODO: access token and start_date can't be none...\n",
    "    api_endpoint = \"https://api.fitbit.com/1/user/-/activities/heart/date/\" + \\\n",
    "        start_date+\"/\"+end_date+\".json\"\n",
    "    header = {'Authorization': 'Bearer {}'.format(access_token)}\n",
    "    response = requests.get(api_endpoint, headers=header).json()\n",
    "    # If the request was successful, there should be a KeyError exception when asking for the errors list.\n",
    "    try:\n",
    "        failed_response = response['errors'][0]\n",
    "        raise Exception(failed_response['message'])\n",
    "    except KeyError:\n",
    "        pass  # it worked\n",
    "    return response"
   ]
  },
  {
   "source": [
    "# Code"
   ],
   "cell_type": "markdown",
   "metadata": {}
  },
  {
   "source": [
    "## Get data from Fitbit"
   ],
   "cell_type": "markdown",
   "metadata": {}
  },
  {
   "cell_type": "code",
   "execution_count": 56,
   "metadata": {},
   "outputs": [
    {
     "output_type": "stream",
     "name": "stdout",
     "text": [
      "Enter start date (or today for today's info):\n",
      "Enter end date (or today for today's info):\n"
     ]
    }
   ],
   "source": [
    "access_token = get_access_token()\n",
    "start_date = get_fitbit_formatted_date_from_user('start')\n",
    "end_date = get_fitbit_formatted_date_from_user('end')\n",
    "data = get_results(access_token,start_date,end_date)"
   ]
  },
  {
   "cell_type": "code",
   "execution_count": 57,
   "metadata": {},
   "outputs": [
    {
     "output_type": "execute_result",
     "data": {
      "text/plain": [
       "     dateTime                                              value\n",
       "0  2020-12-27  {'customHeartRateZones': [], 'heartRateZones':...\n",
       "1  2020-12-28  {'customHeartRateZones': [], 'heartRateZones':...\n",
       "2  2020-12-29  {'customHeartRateZones': [], 'heartRateZones':...\n",
       "3  2020-12-30  {'customHeartRateZones': [], 'heartRateZones':...\n",
       "4  2020-12-31  {'customHeartRateZones': [], 'heartRateZones':...\n",
       "5  2021-01-01  {'customHeartRateZones': [], 'heartRateZones':...\n",
       "6  2021-01-02  {'customHeartRateZones': [], 'heartRateZones':...\n",
       "7  2021-01-03  {'customHeartRateZones': [], 'heartRateZones':...\n",
       "8  2021-01-04  {'customHeartRateZones': [], 'heartRateZones':..."
      ],
      "text/html": "<div>\n<style scoped>\n    .dataframe tbody tr th:only-of-type {\n        vertical-align: middle;\n    }\n\n    .dataframe tbody tr th {\n        vertical-align: top;\n    }\n\n    .dataframe thead th {\n        text-align: right;\n    }\n</style>\n<table border=\"1\" class=\"dataframe\">\n  <thead>\n    <tr style=\"text-align: right;\">\n      <th></th>\n      <th>dateTime</th>\n      <th>value</th>\n    </tr>\n  </thead>\n  <tbody>\n    <tr>\n      <th>0</th>\n      <td>2020-12-27</td>\n      <td>{'customHeartRateZones': [], 'heartRateZones':...</td>\n    </tr>\n    <tr>\n      <th>1</th>\n      <td>2020-12-28</td>\n      <td>{'customHeartRateZones': [], 'heartRateZones':...</td>\n    </tr>\n    <tr>\n      <th>2</th>\n      <td>2020-12-29</td>\n      <td>{'customHeartRateZones': [], 'heartRateZones':...</td>\n    </tr>\n    <tr>\n      <th>3</th>\n      <td>2020-12-30</td>\n      <td>{'customHeartRateZones': [], 'heartRateZones':...</td>\n    </tr>\n    <tr>\n      <th>4</th>\n      <td>2020-12-31</td>\n      <td>{'customHeartRateZones': [], 'heartRateZones':...</td>\n    </tr>\n    <tr>\n      <th>5</th>\n      <td>2021-01-01</td>\n      <td>{'customHeartRateZones': [], 'heartRateZones':...</td>\n    </tr>\n    <tr>\n      <th>6</th>\n      <td>2021-01-02</td>\n      <td>{'customHeartRateZones': [], 'heartRateZones':...</td>\n    </tr>\n    <tr>\n      <th>7</th>\n      <td>2021-01-03</td>\n      <td>{'customHeartRateZones': [], 'heartRateZones':...</td>\n    </tr>\n    <tr>\n      <th>8</th>\n      <td>2021-01-04</td>\n      <td>{'customHeartRateZones': [], 'heartRateZones':...</td>\n    </tr>\n  </tbody>\n</table>\n</div>"
     },
     "metadata": {},
     "execution_count": 57
    }
   ],
   "source": [
    "\n",
    "df = pd.DataFrame(data['activities-heart'][:][:])\n",
    "df"
   ]
  },
  {
   "cell_type": "code",
   "execution_count": 58,
   "metadata": {},
   "outputs": [],
   "source": [
    "df.to_csv('resting_heartrate.csv',index=False)"
   ]
  },
  {
   "cell_type": "code",
   "execution_count": null,
   "metadata": {},
   "outputs": [],
   "source": []
  }
 ]
}